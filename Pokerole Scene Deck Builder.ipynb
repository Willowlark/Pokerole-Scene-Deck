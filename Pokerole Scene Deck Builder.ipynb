{
 "cells": [
  {
   "cell_type": "code",
   "execution_count": null,
   "metadata": {},
   "outputs": [],
   "source": [
    "import re\n",
    "import os\n",
    "import json\n",
    "secrets = json.load(open('secrets.json'))\n",
    "volume = '1'"
   ]
  },
  {
   "cell_type": "code",
   "execution_count": 8,
   "metadata": {},
   "outputs": [],
   "source": [
    "lines= open(secrets['SCENE_DECK_PATH']+f'Scene Deck Volume {volume}.md').readlines()\n",
    "# lines = [ l for l in lines.split('\\n') if l]"
   ]
  },
  {
   "cell_type": "code",
   "execution_count": 9,
   "metadata": {},
   "outputs": [],
   "source": [
    "grouped = []\n",
    "curr = []\n",
    "for l in lines:\n",
    "    if l[0] == '-':\n",
    "        grouped.append(curr)\n",
    "        curr = [l]\n",
    "    elif l[0] == ' ':\n",
    "        curr.append(l)\n",
    "grouped.append(curr)\n",
    "grouped = grouped[1:]"
   ]
  },
  {
   "cell_type": "code",
   "execution_count": 10,
   "metadata": {},
   "outputs": [],
   "source": [
    "icons_ref = {'Pokemon':'moon-orbit', 'Trainer':'person', 'World':'globe', 'Bonding':'opposite-hearts', 'Teams':'double-face-mask', 'Legendaries':'cross-flare'}\n",
    "color_ref = {'Pokemon':'FireBrick', 'Trainer':'DarkBlue', 'World':'SaddleBrown', 'Bonding':'darkgreen', 'Teams':'black', 'Legendaries':'Goldenrod'}\n",
    "\n",
    "built = []\n",
    "for group in grouped:\n",
    "    card = {}\n",
    "    card['prompt'] = group[0].strip()[2:]\n",
    "    # print(group)\n",
    "    cate_tags = group[1].strip()[2:].split(' ', 1)\n",
    "    card['category'] = cate_tags[0].strip().capitalize()\n",
    "    card['tags'] = ','.join([f'\"{t.strip()}\"' for t in cate_tags[1].split(',')]) if len(cate_tags) > 1 else ''\n",
    "    \n",
    "    card['color'] = color_ref[card['category']]\n",
    "    card['icon'] = icons_ref[card['category']]\n",
    "    \n",
    "    questions = re.findall('.*?\\?',group[2].strip()[2:])\n",
    "    card['questions'] = ['\"bullet | '+q+'\"' for q in questions]\n",
    "    \n",
    "    if len(group) > 3:\n",
    "        encounter = group[3].strip()[2:].split(';')\n",
    "        card['encounter'] = ['\"bullet | '+e+'\"' for e in encounter]\n",
    "            \n",
    "    built.append(card)"
   ]
  },
  {
   "cell_type": "code",
   "execution_count": 11,
   "metadata": {},
   "outputs": [],
   "source": [
    "card_json = []\n",
    "for b in built:\n",
    "    encounters = '\"section | Encounter\",\\n'+',\\n'.join(b['encounter']) if 'encounter' in b else ''\n",
    "    questions = ',\\n'.join(b['questions'])\n",
    "    if encounters: questions = questions+',\\n'\n",
    "    template = f\"\"\"\"count\": 1,\n",
    "        \"title\": \"{b['category']}\",\n",
    "        \"contents\": [\n",
    "          \"section | Prompt\",\n",
    "          \"text | {b['prompt']}\",\n",
    "          \"section | Questions\",\n",
    "          {questions}\n",
    "          {encounters}\n",
    "        ],\n",
    "        \"tags\": [{b['tags']}],\n",
    "        \"color\": \"{b['color']}\",\n",
    "         \"icon\": \"{b['icon']}\" \"\"\"\n",
    "    card_json.append(\"{\\n\"+template+\"\\n}\")\n",
    "out = '[\\n'+',\\n'.join(card_json)+'\\n]'\n",
    "os.makedirs(f\"Volume {volume}\",exist_ok=True)\n",
    "with open(f'Volume {volume}/Scene Deck Volume {volume}.json', 'w') as f:\n",
    "    f.write(out)\n",
    "# https://crobi.github.io/rpg-cards/generator/generate.html <---- Now upload here"
   ]
  },
  {
   "cell_type": "code",
   "execution_count": null,
   "metadata": {},
   "outputs": [],
   "source": []
  }
 ],
 "metadata": {
  "kernelspec": {
   "display_name": "Python 3 (ipykernel)",
   "language": "python",
   "name": "python3"
  },
  "language_info": {
   "codemirror_mode": {
    "name": "ipython",
    "version": 3
   },
   "file_extension": ".py",
   "mimetype": "text/x-python",
   "name": "python",
   "nbconvert_exporter": "python",
   "pygments_lexer": "ipython3",
   "version": "3.9.12"
  },
  "vscode": {
   "interpreter": {
    "hash": "aee8b7b246df8f9039afb4144a1f6fd8d2ca17a180786b69acc140d282b71a49"
   }
  }
 },
 "nbformat": 4,
 "nbformat_minor": 4
}
