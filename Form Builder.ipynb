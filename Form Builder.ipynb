{
 "cells": [
  {
   "cell_type": "code",
   "execution_count": 39,
   "metadata": {},
   "outputs": [],
   "source": [
    "import re\n",
    "import os\n",
    "import json\n",
    "import pandas as pd\n",
    "secrets = json.load(open('secrets.json'))\n",
    "\n",
    "# Set these!\n",
    "\n",
    "data = pd.read_csv('formdata.csv').fillna('')\n",
    "volume = '2'\n",
    "\n",
    "\n",
    "icons_ref = {\n",
    "    'Pokemon':'moon-orbit', \n",
    "    'Trainer':'person', \n",
    "    'World':'globe', \n",
    "    'Bonding':'opposite-hearts', \n",
    "    'Teams':'double-face-mask', \n",
    "    'Legendaries':'cross-flare', \n",
    "    'PMD':'dungeon-gate'}\n",
    "color_ref = {\n",
    "    'Pokemon':'FireBrick', \n",
    "    'Trainer':'DarkBlue', \n",
    "    'World':'SaddleBrown', \n",
    "    'Bonding':'darkgreen', \n",
    "    'Teams':'black', \n",
    "    'Legendaries':'Goldenrod',\n",
    "    'PMD': 'Orange'}"
   ]
  },
  {
   "cell_type": "code",
   "execution_count": 54,
   "metadata": {},
   "outputs": [],
   "source": [
    "card_json = []\n",
    "\n",
    "for _, r in data.iterrows():\n",
    "    if r['Converted'] or not r['Timestamp']:\n",
    "        continue\n",
    "    prompt = r['Prompt'].replace('\"', \"'\").split('\\n')\n",
    "    prompt = ['\"text | '+p+'\"' for p in prompt if p]\n",
    "    prompt = ',\\n'.join(prompt)\n",
    "    author = r['A Name to Credit You With!']\n",
    "    category = r['Category']\n",
    "    color = color_ref[r['Category']]\n",
    "    icon = icons_ref[r['Category']]\n",
    "    questions = re.findall('.*?\\?',r['Questions (Try to have around 3!)'])\n",
    "    questions = ['\"bullet | '+q+'\"' for q in questions]\n",
    "    questions = ',\\n'.join(questions)\n",
    "    \n",
    "    template = f\"\"\"\"count\": 1,\n",
    "        \"title\": \"{category}\",\n",
    "        \"contents\": [\n",
    "          \"subtitle || By {author}\",\n",
    "          \"section | Prompt\",\n",
    "          {prompt},\n",
    "          \"section | Questions\",\n",
    "          {questions},\n",
    "          \"fill\",\n",
    "          \"subtitle || Volume {volume}\"\n",
    "        ],\n",
    "        \"tags\": [\"Volume {volume}\"],\n",
    "        \"color\": \"{color}\",\n",
    "         \"icon\": \"{icon}\" \"\"\"\n",
    "    card_json.append(\"{\\n\"+template+\"\\n}\")\n",
    "out = '[\\n'+',\\n'.join(card_json)+'\\n]'\n",
    "os.makedirs(f\"Volume {volume}\",exist_ok=True)\n",
    "with open(f'Volume {volume}/Scene Deck Volume {volume}.json', 'w') as f:\n",
    "    f.write(out)\n",
    "# https://rpg-cards.vercel.app/\n",
    "# https://smallpdf.com/pdf-to-jpg "
   ]
  }
 ],
 "metadata": {
  "kernelspec": {
   "display_name": "base",
   "language": "python",
   "name": "python3"
  },
  "language_info": {
   "codemirror_mode": {
    "name": "ipython",
    "version": 3
   },
   "file_extension": ".py",
   "mimetype": "text/x-python",
   "name": "python",
   "nbconvert_exporter": "python",
   "pygments_lexer": "ipython3",
   "version": "3.9.12"
  },
  "orig_nbformat": 4
 },
 "nbformat": 4,
 "nbformat_minor": 2
}
